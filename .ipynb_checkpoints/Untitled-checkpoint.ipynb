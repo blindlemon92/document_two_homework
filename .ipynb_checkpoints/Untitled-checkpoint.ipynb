{
 "cells": [
  {
   "cell_type": "code",
   "execution_count": 10,
   "id": "9806d9e4",
   "metadata": {},
   "outputs": [
    {
     "data": {
      "text/plain": [
       "['Connor', 'Max', 'Evan', 'Jordan']"
      ]
     },
     "execution_count": 10,
     "metadata": {},
     "output_type": "execute_result"
    }
   ],
   "source": [
    "# String exercise from Python 2.1 video\n",
    "\n",
    "def uniform_syntax(names):\n",
    "    return [i.strip().title() for i in names]\n",
    "\n",
    "uniform_syntax(['     connor', 'max', 'EVan ', 'JORDAN'])\n",
    "\n"
   ]
  },
  {
   "cell_type": "code",
   "execution_count": 20,
   "id": "4f0dbab4",
   "metadata": {},
   "outputs": [
    {
     "data": {
      "text/plain": [
       "['connor', 'bob', 'evan', 'max', 2, 3, 4, 'kevin']"
      ]
     },
     "execution_count": 20,
     "metadata": {},
     "output_type": "execute_result"
    }
   ],
   "source": [
    "# List exercise from Python 2.2 video\n",
    "\n",
    "def there_can_be_only_one(names):\n",
    "    answer = []\n",
    "    for i in names:\n",
    "        if i not in answer:\n",
    "            answer.append(i)\n",
    "    return answer\n",
    "\n",
    "# or if you don't care about changing the order\n",
    "\n",
    "# def there_can_be_only_one(names):\n",
    "#      return[set(names)]\n",
    "\n",
    "there_can_be_only_one(['connor', 'connor', 'bob', 'connor', 'evan', 'max', 'evan', 2, 2, 2, 3, 3, 4, 'bob', 'kevin'])"
   ]
  },
  {
   "cell_type": "code",
   "execution_count": 32,
   "id": "d9451863",
   "metadata": {},
   "outputs": [
    {
     "data": {
      "text/plain": [
       "['John Smith', 'Evan Smith', 'Jordan Williams', 'Max Bell']"
      ]
     },
     "execution_count": 32,
     "metadata": {},
     "output_type": "execute_result"
    }
   ],
   "source": [
    "# Function exercise from Python 2.5\n",
    "\n",
    "def full_name(first_name, last_name):\n",
    "    return[i + \" \" + last_name.pop(0) for i in first_name]\n",
    "\n",
    "full_name(['John', 'Evan', 'Jordan', 'Max'], ['Smith', 'Smith', 'Williams', 'Bell'])"
   ]
  },
  {
   "cell_type": "code",
   "execution_count": 29,
   "id": "85bdd9c0",
   "metadata": {},
   "outputs": [
    {
     "data": {
      "text/plain": [
       "[1, 5, 8, 9]"
      ]
     },
     "execution_count": 29,
     "metadata": {},
     "output_type": "execute_result"
    }
   ],
   "source": [
    "def YouGottaBeThisSmallToPrint(list):\n",
    "    return[i for i in list if i < 10]\n",
    "YouGottaBeThisSmallToPrint([1, 11, 14, 5, 8, 9])"
   ]
  },
  {
   "cell_type": "code",
   "execution_count": 6,
   "id": "59555819",
   "metadata": {},
   "outputs": [
    {
     "data": {
      "text/plain": [
       "[1, 2, 3, 3, 4, 4, 5, 5, 6, 6, 7, 8, 10]"
      ]
     },
     "execution_count": 6,
     "metadata": {},
     "output_type": "execute_result"
    }
   ],
   "source": [
    "def LetsMashItUp(list_one, list_two):\n",
    "    return [i for i in sorted(list_one + list_two)]\n",
    "LetsMashItUp([1,2,3,4,5,6], [3,4,5,6,7,8,10])"
   ]
  },
  {
   "cell_type": "code",
   "execution_count": 10,
   "id": "d2de01dc",
   "metadata": {},
   "outputs": [
    {
     "data": {
      "text/plain": [
       "[1, 2, 3, 4, 5, 6, 7, 8, 10]"
      ]
     },
     "execution_count": 10,
     "metadata": {},
     "output_type": "execute_result"
    }
   ],
   "source": [
    "# Or if you don't want the duplicate intergers\n",
    "\n",
    "def LetsMashItUp(list_one, list_two):\n",
    "    return [i for i in set(sorted(list_one + list_two))]\n",
    "LetsMashItUp([1,2,3,4,5,6], [3,4,5,6,7,8,10])\n",
    "\n"
   ]
  },
  {
   "cell_type": "code",
   "execution_count": null,
   "id": "43ecb800",
   "metadata": {},
   "outputs": [],
   "source": []
  }
 ],
 "metadata": {
  "kernelspec": {
   "display_name": "Python 3 (ipykernel)",
   "language": "python",
   "name": "python3"
  },
  "language_info": {
   "codemirror_mode": {
    "name": "ipython",
    "version": 3
   },
   "file_extension": ".py",
   "mimetype": "text/x-python",
   "name": "python",
   "nbconvert_exporter": "python",
   "pygments_lexer": "ipython3",
   "version": "3.9.13"
  }
 },
 "nbformat": 4,
 "nbformat_minor": 5
}
