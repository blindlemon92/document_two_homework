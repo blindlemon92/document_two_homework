{
 "cells": [
  {
   "cell_type": "code",
   "execution_count": 11,
   "id": "85bdd9c0",
   "metadata": {},
   "outputs": [
    {
     "data": {
      "text/plain": [
       "[1, 5, 8, 9]"
      ]
     },
     "execution_count": 11,
     "metadata": {},
     "output_type": "execute_result"
    }
   ],
   "source": [
    "def YouGottaBeThisSmallToPrint(list):\n",
    "    return[i for i in list if i < 10]\n",
    "YouGottaBeThisSmallToPrint([1, 11, 14, 5, 8, 9])"
   ]
  },
  {
   "cell_type": "code",
   "execution_count": 12,
   "id": "59555819",
   "metadata": {},
   "outputs": [
    {
     "data": {
      "text/plain": [
       "[1, 2, 3, 3, 4, 4, 5, 5, 6, 6, 7, 8, 10]"
      ]
     },
     "execution_count": 12,
     "metadata": {},
     "output_type": "execute_result"
    }
   ],
   "source": [
    "def LetsMashItUp(list_one, list_two):\n",
    "    return [i for i in sorted(list_one + list_two)]\n",
    "LetsMashItUp([1,2,3,4,5,6], [3,4,5,6,7,8,10])"
   ]
  },
  {
   "cell_type": "code",
   "execution_count": 10,
   "id": "d2de01dc",
   "metadata": {},
   "outputs": [
    {
     "data": {
      "text/plain": [
       "[1, 2, 3, 4, 5, 6, 7, 8, 10]"
      ]
     },
     "execution_count": 10,
     "metadata": {},
     "output_type": "execute_result"
    }
   ],
   "source": [
    "# Or if you don't want the duplicate intergers\n",
    "\n",
    "def LetsMashItUp(list_one, list_two):\n",
    "    return [i for i in set(sorted(list_one + list_two))]\n",
    "LetsMashItUp([1,2,3,4,5,6], [3,4,5,6,7,8,10])\n",
    "\n"
   ]
  },
  {
   "cell_type": "code",
   "execution_count": null,
   "id": "43ecb800",
   "metadata": {},
   "outputs": [],
   "source": []
  }
 ],
 "metadata": {
  "kernelspec": {
   "display_name": "Python 3 (ipykernel)",
   "language": "python",
   "name": "python3"
  },
  "language_info": {
   "codemirror_mode": {
    "name": "ipython",
    "version": 3
   },
   "file_extension": ".py",
   "mimetype": "text/x-python",
   "name": "python",
   "nbconvert_exporter": "python",
   "pygments_lexer": "ipython3",
   "version": "3.9.13"
  }
 },
 "nbformat": 4,
 "nbformat_minor": 5
}
